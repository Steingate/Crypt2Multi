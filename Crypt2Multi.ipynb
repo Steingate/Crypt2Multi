{
 "cells": [
  {
   "cell_type": "code",
   "execution_count": 58,
   "metadata": {
    "collapsed": true
   },
   "outputs": [],
   "source": [
    "from os import urandom\n",
    "from hashlib import sha512\n",
    "from Crypto.Cipher import AES\n",
    "\n",
    "import copy\n",
    "import os"
   ]
  },
  {
   "cell_type": "code",
   "execution_count": 59,
   "metadata": {
    "collapsed": true
   },
   "outputs": [],
   "source": [
    "def DeriveKeyIV(password, salt, key_length, iv_length):\n",
    "    KeyAndIV_0 = b''  # changed '' to b''\n",
    "    KeyAndIV_1 = copy.copy(KeyAndIV_0)  \n",
    "    while len(KeyAndIV_0) < key_length + iv_length:\n",
    "        KeyAndIV_1 = sha512(KeyAndIV_1 + str.encode(password) + salt).digest()\n",
    "        KeyAndIV_0 += KeyAndIV_1\n",
    "    return KeyAndIV_0[:key_length], KeyAndIV_0[key_length:key_length+iv_length]"
   ]
  },
  {
   "cell_type": "code",
   "execution_count": 60,
   "metadata": {
    "collapsed": true
   },
   "outputs": [],
   "source": [
    "def encrypt(input_file_path, output_file_path_0, output_file_path_1, piece, password, salt_no, salt_header='', key_length=32):\n",
    "    with open(input_file_path, 'rb') as in_file, open(output_file_path_0, 'wb') as out_file_1, open(output_file_path_1, 'wb') as out_file_2:\n",
    "        bs = AES.block_size  # best not to change\n",
    "        iv_length = AES.block_size  # best not to change\n",
    "        salt = urandom(salt_no - len(salt_header))\n",
    "        key, iv = DeriveKeyIV(password, salt, key_length, iv_length)\n",
    "        cipher = AES.new(key, AES.MODE_CBC, iv)\n",
    "        out_file_1.write(str.encode(salt_header) + salt)\n",
    "        finished = False\n",
    "        n=0  # index for separate the output files\n",
    "        while not finished:\n",
    "            chunk = in_file.read(piece * bs) \n",
    "            if len(chunk) == 0 or len(chunk) % bs != 0:\n",
    "                padding_length = (bs - len(chunk) % bs) or bs\n",
    "                chunk += str.encode(padding_length * chr(padding_length))\n",
    "                finished = True\n",
    "            if n%2 == 0:\n",
    "                out_file_1.write(cipher.encrypt(chunk))\n",
    "            if n%2 == 1:\n",
    "                out_file_2.write(cipher.encrypt(chunk))\n",
    "            n += 1\n",
    "def decrypt(input_file_path_0, input_file_path_1, output_file_path, piece, password, salt_no, salt_header='', key_length=32):\n",
    "    with open(input_file_path_0, 'rb') as in_file_0, open(input_file_path_1, 'rb') as in_file_1, open(output_file_path, 'wb') as out_file:\n",
    "        bs = AES.block_size  # best not to change\n",
    "        iv_length = AES.block_size  # best not to change\n",
    "        salt = in_file_0.read(salt_no)[len(salt_header):]\n",
    "        key, iv = DeriveKeyIV(password, salt, key_length, iv_length)\n",
    "        cipher = AES.new(key, AES.MODE_CBC, iv)\n",
    "        next_chunk = ''\n",
    "        finished = False\n",
    "        n=0  # index for separate the output files\n",
    "        while not finished:\n",
    "            if n%2 == 0:\n",
    "                chunk, next_chunk = next_chunk, cipher.decrypt(in_file_0.read(piece * bs))\n",
    "            if n%2 == 1:\n",
    "                chunk, next_chunk = next_chunk, cipher.decrypt(in_file_1.read(piece * bs))\n",
    "\n",
    "            if len(next_chunk) == 0:\n",
    "                padding_length = chunk[-1]  # removed ord(...) as unnecessary\n",
    "                chunk = chunk[:-padding_length]\n",
    "                finished = True \n",
    "\n",
    "            out_file.write(bytes(x for x in chunk))  # changed chunk to bytes(...)\n",
    "            n += 1"
   ]
  },
  {
   "cell_type": "markdown",
   "metadata": {},
   "source": [
    "## Demo"
   ]
  },
  {
   "cell_type": "code",
   "execution_count": 61,
   "metadata": {
    "collapsed": true
   },
   "outputs": [],
   "source": [
    "# parameters\n",
    "piece = 10\n",
    "password = 'default'\n",
    "salt_no = 100\n",
    "salt_header = 'default'"
   ]
  },
  {
   "cell_type": "markdown",
   "metadata": {},
   "source": [
    "### encrypt"
   ]
  },
  {
   "cell_type": "code",
   "execution_count": 62,
   "metadata": {
    "collapsed": true
   },
   "outputs": [],
   "source": [
    "# path\n",
    "input_file_path = 'test.txt'\n",
    "output_file_path_0 = '1.txt'\n",
    "output_file_path_1 = '2.txt'"
   ]
  },
  {
   "cell_type": "code",
   "execution_count": 63,
   "metadata": {
    "collapsed": false
   },
   "outputs": [],
   "source": [
    "# main\n",
    "encrypt(input_file_path, output_file_path_0, output_file_path_1, piece, password, salt_no, salt_header)"
   ]
  },
  {
   "cell_type": "markdown",
   "metadata": {},
   "source": [
    "### decrypt"
   ]
  },
  {
   "cell_type": "code",
   "execution_count": 64,
   "metadata": {
    "collapsed": true
   },
   "outputs": [],
   "source": [
    "# path\n",
    "input_file_path_0 = '1.txt'\n",
    "input_file_path_1 = '2.txt'\n",
    "output_file_path = 'test_combine.txt'"
   ]
  },
  {
   "cell_type": "code",
   "execution_count": 65,
   "metadata": {
    "collapsed": true
   },
   "outputs": [],
   "source": [
    "# main\n",
    "decrypt(input_file_path_0, input_file_path_1, output_file_path, piece, password, salt_no, salt_header)"
   ]
  }
 ],
 "metadata": {
  "kernelspec": {
   "display_name": "Python [conda env:py35]",
   "language": "python",
   "name": "conda-env-py35-py"
  },
  "language_info": {
   "codemirror_mode": {
    "name": "ipython",
    "version": 3
   },
   "file_extension": ".py",
   "mimetype": "text/x-python",
   "name": "python",
   "nbconvert_exporter": "python",
   "pygments_lexer": "ipython3",
   "version": "3.5.2"
  }
 },
 "nbformat": 4,
 "nbformat_minor": 1
}
